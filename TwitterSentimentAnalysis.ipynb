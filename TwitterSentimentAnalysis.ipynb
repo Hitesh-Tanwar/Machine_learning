{
 "cells": [
  {
   "cell_type": "markdown",
   "id": "884d4949",
   "metadata": {},
   "source": [
    "# 1. DATASET"
   ]
  },
  {
   "cell_type": "markdown",
   "id": "4909f2cc",
   "metadata": {},
   "source": [
    "# Importing libraries"
   ]
  },
  {
   "cell_type": "code",
   "execution_count": 1,
   "id": "aa1259cb",
   "metadata": {},
   "outputs": [],
   "source": [
    "import pandas as pd\n",
    "import matplotlib.pyplot as plt\n",
    "import re #regular exprexssion\n",
    "import nltk #natural language toolkit"
   ]
  },
  {
   "cell_type": "markdown",
   "id": "3775126a",
   "metadata": {},
   "source": [
    "# Reading excel file"
   ]
  },
  {
   "cell_type": "code",
   "execution_count": 2,
   "id": "e785092d",
   "metadata": {},
   "outputs": [
    {
     "data": {
      "text/html": [
       "<div>\n",
       "<style scoped>\n",
       "    .dataframe tbody tr th:only-of-type {\n",
       "        vertical-align: middle;\n",
       "    }\n",
       "\n",
       "    .dataframe tbody tr th {\n",
       "        vertical-align: top;\n",
       "    }\n",
       "\n",
       "    .dataframe thead th {\n",
       "        text-align: right;\n",
       "    }\n",
       "</style>\n",
       "<table border=\"1\" class=\"dataframe\">\n",
       "  <thead>\n",
       "    <tr style=\"text-align: right;\">\n",
       "      <th></th>\n",
       "      <th>File Name</th>\n",
       "      <th>Caption</th>\n",
       "      <th>LABEL</th>\n",
       "    </tr>\n",
       "  </thead>\n",
       "  <tbody>\n",
       "    <tr>\n",
       "      <th>0</th>\n",
       "      <td>1.txt</td>\n",
       "      <td>How I feel today #legday #jelly #aching #gym</td>\n",
       "      <td>negative</td>\n",
       "    </tr>\n",
       "    <tr>\n",
       "      <th>1</th>\n",
       "      <td>10.txt</td>\n",
       "      <td>@ArrivaTW absolute disgrace two carriages from...</td>\n",
       "      <td>negative</td>\n",
       "    </tr>\n",
       "    <tr>\n",
       "      <th>2</th>\n",
       "      <td>100.txt</td>\n",
       "      <td>This is my Valentine's from 1 of my nephews. I...</td>\n",
       "      <td>positive</td>\n",
       "    </tr>\n",
       "    <tr>\n",
       "      <th>3</th>\n",
       "      <td>1000.txt</td>\n",
       "      <td>betterfeelingfilms: RT via Instagram: First da...</td>\n",
       "      <td>neutral</td>\n",
       "    </tr>\n",
       "    <tr>\n",
       "      <th>4</th>\n",
       "      <td>1001.txt</td>\n",
       "      <td>Zoe's first love #Rattled @JohnnyHarper15</td>\n",
       "      <td>positive</td>\n",
       "    </tr>\n",
       "  </tbody>\n",
       "</table>\n",
       "</div>"
      ],
      "text/plain": [
       "  File Name                                            Caption     LABEL\n",
       "0     1.txt      How I feel today #legday #jelly #aching #gym   negative\n",
       "1    10.txt  @ArrivaTW absolute disgrace two carriages from...  negative\n",
       "2   100.txt  This is my Valentine's from 1 of my nephews. I...  positive\n",
       "3  1000.txt  betterfeelingfilms: RT via Instagram: First da...   neutral\n",
       "4  1001.txt         Zoe's first love #Rattled @JohnnyHarper15   positive"
      ]
     },
     "execution_count": 2,
     "metadata": {},
     "output_type": "execute_result"
    }
   ],
   "source": [
    "df = pd.read_excel('LabeledText.xlsx')\n",
    "df.head()"
   ]
  },
  {
   "cell_type": "markdown",
   "id": "ad4514a4",
   "metadata": {},
   "source": [
    "# Null values"
   ]
  },
  {
   "cell_type": "code",
   "execution_count": 3,
   "id": "78a38e7b",
   "metadata": {},
   "outputs": [
    {
     "data": {
      "text/plain": [
       "File Name    0\n",
       "Caption      0\n",
       "LABEL        0\n",
       "dtype: int64"
      ]
     },
     "execution_count": 3,
     "metadata": {},
     "output_type": "execute_result"
    }
   ],
   "source": [
    "df.isnull().sum()"
   ]
  },
  {
   "cell_type": "code",
   "execution_count": 4,
   "id": "023f34ee",
   "metadata": {},
   "outputs": [
    {
     "name": "stdout",
     "output_type": "stream",
     "text": [
      "<class 'pandas.core.frame.DataFrame'>\n",
      "RangeIndex: 4869 entries, 0 to 4868\n",
      "Data columns (total 3 columns):\n",
      " #   Column     Non-Null Count  Dtype \n",
      "---  ------     --------------  ----- \n",
      " 0   File Name  4869 non-null   object\n",
      " 1   Caption    4869 non-null   object\n",
      " 2   LABEL      4869 non-null   object\n",
      "dtypes: object(3)\n",
      "memory usage: 114.2+ KB\n"
     ]
    }
   ],
   "source": [
    "df.info()"
   ]
  },
  {
   "cell_type": "markdown",
   "id": "9a422255",
   "metadata": {},
   "source": [
    "# Drop neutral label"
   ]
  },
  {
   "cell_type": "code",
   "execution_count": 5,
   "id": "e2d287b0",
   "metadata": {},
   "outputs": [],
   "source": [
    "drop_neutral = df[df['LABEL']=='neutral'].index\n",
    "df.drop(drop_neutral, inplace=True)"
   ]
  },
  {
   "cell_type": "markdown",
   "id": "05285416",
   "metadata": {},
   "source": [
    "# Label +ve as 1 & -ve as 0"
   ]
  },
  {
   "cell_type": "code",
   "execution_count": 6,
   "id": "2026c504",
   "metadata": {},
   "outputs": [],
   "source": [
    "df.loc[df['LABEL']=='negative','LABEL'] = 0 #access values by labels\n",
    "df.loc[df['LABEL']=='positive','LABEL'] = 1"
   ]
  },
  {
   "cell_type": "code",
   "execution_count": 7,
   "id": "276bef61",
   "metadata": {},
   "outputs": [
    {
     "data": {
      "text/plain": [
       "1    1646\n",
       "0    1452\n",
       "Name: LABEL, dtype: int64"
      ]
     },
     "execution_count": 7,
     "metadata": {},
     "output_type": "execute_result"
    }
   ],
   "source": [
    "df['LABEL'].value_counts()"
   ]
  },
  {
   "cell_type": "markdown",
   "id": "3fda0632",
   "metadata": {},
   "source": [
    "# Change type "
   ]
  },
  {
   "cell_type": "code",
   "execution_count": 8,
   "id": "790599e5",
   "metadata": {},
   "outputs": [],
   "source": [
    "df = df.astype({'LABEL':int})"
   ]
  },
  {
   "cell_type": "markdown",
   "id": "fc01df73",
   "metadata": {},
   "source": [
    "# Plotting graph"
   ]
  },
  {
   "cell_type": "code",
   "execution_count": 9,
   "id": "45affa5c",
   "metadata": {},
   "outputs": [
    {
     "data": {
      "image/png": "[encoded data removed]",
      "text/plain": [
       "<Figure size 432x432 with 1 Axes>"
      ]
     },
     "metadata": {},
     "output_type": "display_data"
    }
   ],
   "source": [
    "df['LABEL'].value_counts().plot.pie(figsize=(6,6),title=\"Distribution of reviews\",labels=['',''],autopct='%1.1f%%')\n",
    "labels=['Positive','Negative']\n",
    "plt.legend(labels,loc=3)\n",
    "plt.gca().set_aspect('equal')"
   ]
  },
  {
   "cell_type": "markdown",
   "id": "58812d3c",
   "metadata": {},
   "source": [
    "# 2. DATA PRE-PROCESSING"
   ]
  },
  {
   "cell_type": "markdown",
   "id": "ca67272e",
   "metadata": {},
   "source": [
    "# Cleaning data"
   ]
  },
  {
   "cell_type": "code",
   "execution_count": 10,
   "id": "13892439",
   "metadata": {},
   "outputs": [],
   "source": [
    "def remove(tweet):\n",
    "    \n",
    "    tweet = re.sub(\"@[A-Za-z0-9_]+\",\"\", tweet) #mention\n",
    "    tweet = re.sub(r'\\$\\w*', '', tweet) #stock market ticket\n",
    "    tweet = re.sub(r'^RT[\\s]+', '', tweet) #old style retweet text RT\n",
    "    tweet = re.sub(r'^rt[\\s]+', '', tweet) #old style retweet text RT\n",
    "    tweet = re.sub(r'https?:\\/\\/.*[\\r\\n]*', '', tweet) #hyperlink\n",
    "    tweet = re.sub(r'^https[\\s]+', '', tweet) #hyperlink\n",
    "    tweet = re.sub(r'#', '', tweet) #hashtag\n",
    "    tweet = re.sub(r'%', '', tweet) #hashtag\n",
    "    tweet = re.sub(r',','',tweet) #coma\n",
    "    tweet = re.sub('[0-9]+', '', tweet) #angka\n",
    "    tweet = re.sub(r':', '', tweet) #angka\n",
    "    tweet = tweet.strip() #space\n",
    "    tweet = re.sub('\\s+',' ',tweet) #double space\n",
    "    \n",
    "    return tweet\n",
    "\n",
    "df['cleaning_data'] = df['Caption'].apply(lambda x: remove(x.lower()))"
   ]
  },
  {
   "cell_type": "code",
   "execution_count": 11,
   "id": "9e7ca554",
   "metadata": {},
   "outputs": [],
   "source": [
    "df.drop_duplicates(subset='cleaning_data', keep = 'first', inplace = True)"
   ]
  },
  {
   "cell_type": "markdown",
   "id": "a5c1a50f",
   "metadata": {},
   "source": [
    "# Remove stopwords"
   ]
  },
  {
   "cell_type": "code",
   "execution_count": 12,
   "id": "24e07d72",
   "metadata": {},
   "outputs": [],
   "source": [
    "from nltk.corpus import stopwords"
   ]
  },
  {
   "cell_type": "code",
   "execution_count": 14,
   "id": "af73c8b9",
   "metadata": {},
   "outputs": [],
   "source": [
    "stopword = set(stopwords.words('english'))\n",
    "\n",
    "def clean_stopwords(text): \n",
    "    text = ' '.join(word for word in text.split() if word not in stopword)\n",
    "    return text\n",
    "\n",
    "df['tweet_sw'] = df['cleaning_data'].apply(clean_stopwords)"
   ]
  },
  {
   "cell_type": "markdown",
   "id": "75ef5614",
   "metadata": {},
   "source": [
    "# Stemming "
   ]
  },
  {
   "cell_type": "code",
   "execution_count": 15,
   "id": "e58fc540",
   "metadata": {},
   "outputs": [],
   "source": [
    "#(love,loved,loving)->love\n",
    "from nltk.stem import PorterStemmer\n",
    "ps = PorterStemmer()\n",
    "\n",
    "def porterstemmer(text):\n",
    "    text = ' '.join(ps.stem(word) for word in text.split() if word in text)\n",
    "    return text\n",
    "\n",
    "df['tweet_stem'] = df['tweet_sw'].apply(porterstemmer)"
   ]
  },
  {
   "cell_type": "markdown",
   "id": "f26fe86d",
   "metadata": {},
   "source": [
    "# Lemmatization"
   ]
  },
  {
   "cell_type": "code",
   "execution_count": 18,
   "id": "ed2cd07a",
   "metadata": {},
   "outputs": [],
   "source": [
    "#i ate an apple -> i eat an apple\n",
    "import spacy\n",
    "nlp = spacy.load('en_core_web_sm')"
   ]
  },
  {
   "cell_type": "code",
   "execution_count": 19,
   "id": "c12cfca4",
   "metadata": {},
   "outputs": [],
   "source": [
    "def lemmatization(text):\n",
    "    doc = nlp(text)\n",
    "    tokens = [token.lemma_.lower() for token in doc if not token.is_stop and not token.is_punct]\n",
    "    return ' '.join(tokens)\n",
    "\n",
    "df['tweet_clean'] = df['tweet_stem'].apply(lemmatization)"
   ]
  },
  {
   "cell_type": "markdown",
   "id": "4ef1c5cb",
   "metadata": {},
   "source": [
    "# Final data"
   ]
  },
  {
   "cell_type": "code",
   "execution_count": 20,
   "id": "3a24a858",
   "metadata": {},
   "outputs": [
    {
     "data": {
      "text/html": [
       "<div>\n",
       "<style scoped>\n",
       "    .dataframe tbody tr th:only-of-type {\n",
       "        vertical-align: middle;\n",
       "    }\n",
       "\n",
       "    .dataframe tbody tr th {\n",
       "        vertical-align: top;\n",
       "    }\n",
       "\n",
       "    .dataframe thead th {\n",
       "        text-align: right;\n",
       "    }\n",
       "</style>\n",
       "<table border=\"1\" class=\"dataframe\">\n",
       "  <thead>\n",
       "    <tr style=\"text-align: right;\">\n",
       "      <th></th>\n",
       "      <th>File Name</th>\n",
       "      <th>Caption</th>\n",
       "      <th>LABEL</th>\n",
       "      <th>cleaning_data</th>\n",
       "      <th>tweet_sw</th>\n",
       "      <th>tweet_stem</th>\n",
       "      <th>tweet_clean</th>\n",
       "    </tr>\n",
       "  </thead>\n",
       "  <tbody>\n",
       "    <tr>\n",
       "      <th>0</th>\n",
       "      <td>1.txt</td>\n",
       "      <td>How I feel today #legday #jelly #aching #gym</td>\n",
       "      <td>0</td>\n",
       "      <td>how i feel today legday jelly aching gym</td>\n",
       "      <td>feel today legday jelly aching gym</td>\n",
       "      <td>feel today legday jelli ach gym</td>\n",
       "      <td>feel today legday jelli ach gym</td>\n",
       "    </tr>\n",
       "    <tr>\n",
       "      <th>1</th>\n",
       "      <td>10.txt</td>\n",
       "      <td>@ArrivaTW absolute disgrace two carriages from...</td>\n",
       "      <td>0</td>\n",
       "      <td>absolute disgrace two carriages from bangor ha...</td>\n",
       "      <td>absolute disgrace two carriages bangor half wa...</td>\n",
       "      <td>absolut disgrac two carriag bangor half way st...</td>\n",
       "      <td>absolut disgrac carriag bangor half way stand ...</td>\n",
       "    </tr>\n",
       "    <tr>\n",
       "      <th>2</th>\n",
       "      <td>100.txt</td>\n",
       "      <td>This is my Valentine's from 1 of my nephews. I...</td>\n",
       "      <td>1</td>\n",
       "      <td>this is my valentine's from of my nephews. i a...</td>\n",
       "      <td>valentine's nephews. elated; sometimes little ...</td>\n",
       "      <td>valentine' nephews. elated; sometim littl thin...</td>\n",
       "      <td>valentine nephew elated sometim littl thing bi...</td>\n",
       "    </tr>\n",
       "    <tr>\n",
       "      <th>4</th>\n",
       "      <td>1001.txt</td>\n",
       "      <td>Zoe's first love #Rattled @JohnnyHarper15</td>\n",
       "      <td>1</td>\n",
       "      <td>zoe's first love rattled</td>\n",
       "      <td>zoe's first love rattled</td>\n",
       "      <td>zoe' first love rattl</td>\n",
       "      <td>zoe love rattl</td>\n",
       "    </tr>\n",
       "    <tr>\n",
       "      <th>5</th>\n",
       "      <td>1002.txt</td>\n",
       "      <td>Chaotic Love - giclee print ?65 at #art #love ...</td>\n",
       "      <td>1</td>\n",
       "      <td>chaotic love - giclee print ? at art love chao...</td>\n",
       "      <td>chaotic love - giclee print ? art love chaotic...</td>\n",
       "      <td>chaotic love - gicle print ? art love chaotic ...</td>\n",
       "      <td>chaotic love gicle print art love chaotic abst...</td>\n",
       "    </tr>\n",
       "  </tbody>\n",
       "</table>\n",
       "</div>"
      ],
      "text/plain": [
       "  File Name                                            Caption  LABEL  \\\n",
       "0     1.txt      How I feel today #legday #jelly #aching #gym       0   \n",
       "1    10.txt  @ArrivaTW absolute disgrace two carriages from...      0   \n",
       "2   100.txt  This is my Valentine's from 1 of my nephews. I...      1   \n",
       "4  1001.txt         Zoe's first love #Rattled @JohnnyHarper15       1   \n",
       "5  1002.txt  Chaotic Love - giclee print ?65 at #art #love ...      1   \n",
       "\n",
       "                                       cleaning_data  \\\n",
       "0           how i feel today legday jelly aching gym   \n",
       "1  absolute disgrace two carriages from bangor ha...   \n",
       "2  this is my valentine's from of my nephews. i a...   \n",
       "4                           zoe's first love rattled   \n",
       "5  chaotic love - giclee print ? at art love chao...   \n",
       "\n",
       "                                            tweet_sw  \\\n",
       "0                 feel today legday jelly aching gym   \n",
       "1  absolute disgrace two carriages bangor half wa...   \n",
       "2  valentine's nephews. elated; sometimes little ...   \n",
       "4                           zoe's first love rattled   \n",
       "5  chaotic love - giclee print ? art love chaotic...   \n",
       "\n",
       "                                          tweet_stem  \\\n",
       "0                    feel today legday jelli ach gym   \n",
       "1  absolut disgrac two carriag bangor half way st...   \n",
       "2  valentine' nephews. elated; sometim littl thin...   \n",
       "4                              zoe' first love rattl   \n",
       "5  chaotic love - gicle print ? art love chaotic ...   \n",
       "\n",
       "                                         tweet_clean  \n",
       "0                    feel today legday jelli ach gym  \n",
       "1  absolut disgrac carriag bangor half way stand ...  \n",
       "2  valentine nephew elated sometim littl thing bi...  \n",
       "4                                     zoe love rattl  \n",
       "5  chaotic love gicle print art love chaotic abst...  "
      ]
     },
     "execution_count": 20,
     "metadata": {},
     "output_type": "execute_result"
    }
   ],
   "source": [
    "df.head()"
   ]
  },
  {
   "cell_type": "markdown",
   "id": "69273195",
   "metadata": {},
   "source": [
    "# 3. TF-IDF"
   ]
  },
  {
   "cell_type": "code",
   "execution_count": 21,
   "id": "fa75ac19",
   "metadata": {},
   "outputs": [],
   "source": [
    "from sklearn.feature_extraction.text import TfidfVectorizer"
   ]
  },
  {
   "cell_type": "code",
   "execution_count": 22,
   "id": "2865a9a6",
   "metadata": {},
   "outputs": [
    {
     "name": "stdout",
     "output_type": "stream",
     "text": [
      "  (0, 7105)\t0.2746654615786262\n",
      "  (0, 4026)\t0.5084683581165743\n",
      "  (0, 3683)\t0.4835649376070032\n",
      "  (0, 3057)\t0.42332300100780396\n",
      "  (0, 2492)\t0.2918814379186445\n",
      "  (0, 43)\t0.40961765970653863\n",
      "  (1, 7578)\t0.27223986807082534\n",
      "  (1, 6585)\t0.2853452821918143\n",
      "  (1, 5912)\t0.2853452821918143\n",
      "  (1, 3082)\t0.29551063112537024\n",
      "  (1, 1902)\t0.5491530886300393\n",
      "  (1, 1113)\t0.37713459069057\n",
      "  (1, 557)\t0.37713459069057\n",
      "  (1, 23)\t0.29947445173806314\n",
      "  (2, 7406)\t0.2715609279324852\n",
      "  (2, 7018)\t0.5674724051355987\n",
      "  (2, 6451)\t0.3631145644178158\n",
      "  (2, 4774)\t0.37412012693369345\n",
      "  (2, 4113)\t0.27312679117182587\n",
      "  (2, 2935)\t0.23021407179641162\n",
      "  (2, 2155)\t0.3541223650937916\n",
      "  (2, 711)\t0.2818018154524938\n",
      "  (3, 7875)\t0.6728302574386448\n",
      "  (3, 5671)\t0.6728302574386448\n",
      "  (3, 4175)\t0.30756932446213503\n",
      "  :\t:\n",
      "  (2892, 6694)\t0.5155826343543867\n",
      "  (2892, 2984)\t0.40463894466936257\n",
      "  (2892, 2205)\t0.6400052569789346\n",
      "  (2892, 1097)\t0.4010425696212102\n",
      "  (2893, 7886)\t0.3827458768647352\n",
      "  (2893, 6974)\t0.22706567859873406\n",
      "  (2893, 6909)\t0.32482688276303595\n",
      "  (2893, 5178)\t0.23301204621558733\n",
      "  (2893, 4809)\t0.2838041914718013\n",
      "  (2893, 4389)\t0.25754458374770905\n",
      "  (2893, 3617)\t0.3827458768647352\n",
      "  (2893, 2137)\t0.3827458768647352\n",
      "  (2893, 711)\t0.2641605654834455\n",
      "  (2893, 434)\t0.36400000729838994\n",
      "  (2894, 4156)\t0.59271229260004\n",
      "  (2894, 2153)\t0.8054142649598434\n",
      "  (2895, 7550)\t0.3669087470534184\n",
      "  (2895, 6104)\t0.46186918816785466\n",
      "  (2895, 2410)\t0.5275965270662638\n",
      "  (2895, 2321)\t0.46186918816785466\n",
      "  (2895, 267)\t0.4004667052398257\n",
      "  (2896, 7409)\t0.5289720354786623\n",
      "  (2896, 4175)\t0.3161101439052066\n",
      "  (2896, 2494)\t0.6576454181842695\n",
      "  (2896, 1097)\t0.43331912782962584\n"
     ]
    }
   ],
   "source": [
    "vectorizer = TfidfVectorizer()\n",
    "vectorizer.fit(df['tweet_clean'])\n",
    "vector = vectorizer.transform(df['tweet_clean'])\n",
    "print(vector)"
   ]
  },
  {
   "cell_type": "markdown",
   "id": "b26b37d7",
   "metadata": {},
   "source": [
    "# Splitting dataset"
   ]
  },
  {
   "cell_type": "code",
   "execution_count": 23,
   "id": "bd5e89bb",
   "metadata": {},
   "outputs": [],
   "source": [
    "from sklearn.model_selection import train_test_split\n",
    "\n",
    "x = df['tweet_clean']\n",
    "y = df['LABEL']\n",
    "\n",
    "x_train,x_test,y_train,y_test = train_test_split(vector, y, test_size = 0.2)"
   ]
  },
  {
   "cell_type": "markdown",
   "id": "f243d225",
   "metadata": {},
   "source": [
    "# Apply Random Forest"
   ]
  },
  {
   "cell_type": "code",
   "execution_count": 24,
   "id": "4cc1f9a5",
   "metadata": {},
   "outputs": [],
   "source": [
    "from sklearn.ensemble import RandomForestClassifier"
   ]
  },
  {
   "cell_type": "code",
   "execution_count": 25,
   "id": "baf116cc",
   "metadata": {},
   "outputs": [
    {
     "data": {
      "text/html": [
       "<style>#sk-container-id-1 {color: black;background-color: white;}#sk-container-id-1 pre{padding: 0;}#sk-container-id-1 div.sk-toggleable {background-color: white;}#sk-container-id-1 label.sk-toggleable__label {cursor: pointer;display: block;width: 100%;margin-bottom: 0;padding: 0.3em;box-sizing: border-box;text-align: center;}#sk-container-id-1 label.sk-toggleable__label-arrow:before {content: \"▸\";float: left;margin-right: 0.25em;color: #696969;}#sk-container-id-1 label.sk-toggleable__label-arrow:hover:before {color: black;}#sk-container-id-1 div.sk-estimator:hover label.sk-toggleable__label-arrow:before {color: black;}#sk-container-id-1 div.sk-toggleable__content {max-height: 0;max-width: 0;overflow: hidden;text-align: left;background-color: #f0f8ff;}#sk-container-id-1 div.sk-toggleable__content pre {margin: 0.2em;color: black;border-radius: 0.25em;background-color: #f0f8ff;}#sk-container-id-1 input.sk-toggleable__control:checked~div.sk-toggleable__content {max-height: 200px;max-width: 100%;overflow: auto;}#sk-container-id-1 input.sk-toggleable__control:checked~label.sk-toggleable__label-arrow:before {content: \"▾\";}#sk-container-id-1 div.sk-estimator input.sk-toggleable__control:checked~label.sk-toggleable__label {background-color: #d4ebff;}#sk-container-id-1 div.sk-label input.sk-toggleable__control:checked~label.sk-toggleable__label {background-color: #d4ebff;}#sk-container-id-1 input.sk-hidden--visually {border: 0;clip: rect(1px 1px 1px 1px);clip: rect(1px, 1px, 1px, 1px);height: 1px;margin: -1px;overflow: hidden;padding: 0;position: absolute;width: 1px;}#sk-container-id-1 div.sk-estimator {font-family: monospace;background-color: #f0f8ff;border: 1px dotted black;border-radius: 0.25em;box-sizing: border-box;margin-bottom: 0.5em;}#sk-container-id-1 div.sk-estimator:hover {background-color: #d4ebff;}#sk-container-id-1 div.sk-parallel-item::after {content: \"\";width: 100%;border-bottom: 1px solid gray;flex-grow: 1;}#sk-container-id-1 div.sk-label:hover label.sk-toggleable__label {background-color: #d4ebff;}#sk-container-id-1 div.sk-serial::before {content: \"\";position: absolute;border-left: 1px solid gray;box-sizing: border-box;top: 0;bottom: 0;left: 50%;z-index: 0;}#sk-container-id-1 div.sk-serial {display: flex;flex-direction: column;align-items: center;background-color: white;padding-right: 0.2em;padding-left: 0.2em;position: relative;}#sk-container-id-1 div.sk-item {position: relative;z-index: 1;}#sk-container-id-1 div.sk-parallel {display: flex;align-items: stretch;justify-content: center;background-color: white;position: relative;}#sk-container-id-1 div.sk-item::before, #sk-container-id-1 div.sk-parallel-item::before {content: \"\";position: absolute;border-left: 1px solid gray;box-sizing: border-box;top: 0;bottom: 0;left: 50%;z-index: -1;}#sk-container-id-1 div.sk-parallel-item {display: flex;flex-direction: column;z-index: 1;position: relative;background-color: white;}#sk-container-id-1 div.sk-parallel-item:first-child::after {align-self: flex-end;width: 50%;}#sk-container-id-1 div.sk-parallel-item:last-child::after {align-self: flex-start;width: 50%;}#sk-container-id-1 div.sk-parallel-item:only-child::after {width: 0;}#sk-container-id-1 div.sk-dashed-wrapped {border: 1px dashed gray;margin: 0 0.4em 0.5em 0.4em;box-sizing: border-box;padding-bottom: 0.4em;background-color: white;}#sk-container-id-1 div.sk-label label {font-family: monospace;font-weight: bold;display: inline-block;line-height: 1.2em;}#sk-container-id-1 div.sk-label-container {text-align: center;}#sk-container-id-1 div.sk-container {/* jupyter's `normalize.less` sets `[hidden] { display: none; }` but bootstrap.min.css set `[hidden] { display: none !important; }` so we also need the `!important` here to be able to override the default hidden behavior on the sphinx rendered scikit-learn.org. See: https://github.com/scikit-learn/scikit-learn/issues/21755 */display: inline-block !important;position: relative;}#sk-container-id-1 div.sk-text-repr-fallback {display: none;}</style><div id=\"sk-container-id-1\" class=\"sk-top-container\"><div class=\"sk-text-repr-fallback\"><pre>RandomForestClassifier(n_estimators=200, random_state=0)</pre><b>In a Jupyter environment, please rerun this cell to show the HTML representation or trust the notebook. <br />On GitHub, the HTML representation is unable to render, please try loading this page with nbviewer.org.</b></div><div class=\"sk-container\" hidden><div class=\"sk-item\"><div class=\"sk-estimator sk-toggleable\"><input class=\"sk-toggleable__control sk-hidden--visually\" id=\"sk-estimator-id-1\" type=\"checkbox\" checked><label for=\"sk-estimator-id-1\" class=\"sk-toggleable__label sk-toggleable__label-arrow\">RandomForestClassifier</label><div class=\"sk-toggleable__content\"><pre>RandomForestClassifier(n_estimators=200, random_state=0)</pre></div></div></div></div></div>"
      ],
      "text/plain": [
       "RandomForestClassifier(n_estimators=200, random_state=0)"
      ]
     },
     "execution_count": 25,
     "metadata": {},
     "output_type": "execute_result"
    }
   ],
   "source": [
    "model = RandomForestClassifier(n_estimators=200, random_state=0)\n",
    "model.fit(x_train,y_train)"
   ]
  },
  {
   "cell_type": "code",
   "execution_count": 28,
   "id": "79b59c55",
   "metadata": {},
   "outputs": [],
   "source": [
    "predictions = model.predict(x_test)"
   ]
  },
  {
   "cell_type": "markdown",
   "id": "65e2e004",
   "metadata": {},
   "source": [
    "# Evaluation model"
   ]
  },
  {
   "cell_type": "code",
   "execution_count": 29,
   "id": "89ed2d03",
   "metadata": {},
   "outputs": [
    {
     "name": "stdout",
     "output_type": "stream",
     "text": [
      "Accuracy Score Testing :\n",
      "0.846551724137931\n",
      "Confusion Matrix : \n",
      "[[222  33]\n",
      " [ 56 269]]\n",
      "Classification Report : \n",
      "              precision    recall  f1-score   support\n",
      "\n",
      "           0       0.80      0.87      0.83       255\n",
      "           1       0.89      0.83      0.86       325\n",
      "\n",
      "    accuracy                           0.85       580\n",
      "   macro avg       0.84      0.85      0.85       580\n",
      "weighted avg       0.85      0.85      0.85       580\n",
      "\n"
     ]
    }
   ],
   "source": [
    "from sklearn.metrics import classification_report, confusion_matrix, accuracy_score\n",
    "\n",
    "\n",
    "print(\"Accuracy Score Testing :\")\n",
    "print(accuracy_score(y_test, predictions))\n",
    "\n",
    "print(\"Confusion Matrix : \")\n",
    "print(confusion_matrix(y_test,predictions))\n",
    "\n",
    "print(\"Classification Report : \")\n",
    "print(classification_report(y_test,predictions))"
   ]
  }
 ],
 "metadata": {
  "kernelspec": {
   "display_name": "Python 3 (ipykernel)",
   "language": "python",
   "name": "python3"
  },
  "language_info": {
   "codemirror_mode": {
    "name": "ipython",
    "version": 3
   },
   "file_extension": ".py",
   "mimetype": "text/x-python",
   "name": "python",
   "nbconvert_exporter": "python",
   "pygments_lexer": "ipython3",
   "version": "3.9.7"
  }
 },
 "nbformat": 4,
 "nbformat_minor": 5
}
